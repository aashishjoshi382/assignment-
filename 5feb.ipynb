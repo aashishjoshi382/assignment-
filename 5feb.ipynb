{
 "cells": [
  {
   "cell_type": "code",
   "execution_count": 3,
   "id": "a29e66af-191e-4162-9c2c-e5cec7097c7a",
   "metadata": {},
   "outputs": [],
   "source": [
    "\"\"\"solution<1>\n",
    "\n",
    "\n",
    "class contain serval methords/functions/various codes inside it\n",
    "which can be used again and again by making its object\n",
    "exampe\"\"\"\n",
    "\n",
    "class class1:\n",
    "    def student_details(self):\n",
    "        return \"this is student details\""
   ]
  },
  {
   "cell_type": "code",
   "execution_count": 4,
   "id": "1fdec34e-1d24-41c2-b8f5-cb333613087a",
   "metadata": {},
   "outputs": [],
   "source": [
    "obj1=class1()"
   ]
  },
  {
   "cell_type": "code",
   "execution_count": 5,
   "id": "24a895ef-52fe-4d2e-9504-55e3b5db7c97",
   "metadata": {},
   "outputs": [
    {
     "data": {
      "text/plain": [
       "'this is student details'"
      ]
     },
     "execution_count": 5,
     "metadata": {},
     "output_type": "execute_result"
    }
   ],
   "source": [
    "obj1.student_details()"
   ]
  },
  {
   "cell_type": "code",
   "execution_count": 8,
   "id": "6b1eb4f9-358d-4f43-aa42-8ffa433c1c4f",
   "metadata": {},
   "outputs": [
    {
     "data": {
      "text/plain": [
       "' solution<2>\\nfour pillars of oops are as follows\\n1> polymorphism\\n2> inheritance\\n3> abstraction \\n4> encapsulation'"
      ]
     },
     "execution_count": 8,
     "metadata": {},
     "output_type": "execute_result"
    }
   ],
   "source": [
    "\"\"\" solution<2>\n",
    "\n",
    "four pillars of oops are as follows\n",
    "\n",
    "1> polymorphism\n",
    "2> inheritance\n",
    "3> abstraction \n",
    "4> encapsulation\"\"\""
   ]
  },
  {
   "cell_type": "code",
   "execution_count": 22,
   "id": "655bf6b9-0ceb-46fb-9464-59b7fb67cc6e",
   "metadata": {},
   "outputs": [],
   "source": [
    "\"\"\"solution 3\n",
    "\n",
    "1> __init__ is a constructor \n",
    "2> & its task is to assign values to the data members inside the class\"\"\"\n",
    "\n",
    "class class1:\n",
    "    def __init__(self,name,email):\n",
    "        self.name=name\n",
    "        self.email=email\n",
    "        \n",
    "    def details(self):\n",
    "        print(\"my name is \",self.name)\n",
    "        print(\"my email id is \",self.email)"
   ]
  },
  {
   "cell_type": "code",
   "execution_count": 23,
   "id": "d369469d-58a7-414e-af68-fb395bc70faf",
   "metadata": {},
   "outputs": [],
   "source": [
    "obj1=class1(\"aashish\",\"aashish@gmail.com\")"
   ]
  },
  {
   "cell_type": "code",
   "execution_count": 24,
   "id": "cccc7942-798c-431c-ae79-a0e4b5eb239f",
   "metadata": {},
   "outputs": [
    {
     "name": "stdout",
     "output_type": "stream",
     "text": [
      "my name is  aashish\n",
      "my email id is  aashish@gmail.com\n"
     ]
    }
   ],
   "source": [
    "obj1.details()"
   ]
  },
  {
   "cell_type": "code",
   "execution_count": 25,
   "id": "d2e4c574-1e63-41b9-a99b-271c754b4156",
   "metadata": {},
   "outputs": [],
   "source": [
    "obj2=class1(\"sonu\",\"sonu@gmail.com\")"
   ]
  },
  {
   "cell_type": "code",
   "execution_count": 26,
   "id": "ab1da7be-f94f-4d9f-8092-54514741352d",
   "metadata": {},
   "outputs": [
    {
     "name": "stdout",
     "output_type": "stream",
     "text": [
      "my name is  sonu\n",
      "my email id is  sonu@gmail.com\n"
     ]
    }
   ],
   "source": [
    "obj2.details()"
   ]
  },
  {
   "cell_type": "code",
   "execution_count": 28,
   "id": "fae2f8db-c54b-4060-aeee-92265854b213",
   "metadata": {},
   "outputs": [
    {
     "data": {
      "text/plain": [
       "'solution<4>\\n\\nself in oops is used a pointer/refrence in oops  in python porogramming'"
      ]
     },
     "execution_count": 28,
     "metadata": {},
     "output_type": "execute_result"
    }
   ],
   "source": [
    "\"\"\"solution<4>\n",
    "\n",
    "self in oops is used a pointer/refrence in oops  in python porogramming\"\"\""
   ]
  },
  {
   "cell_type": "code",
   "execution_count": 29,
   "id": "ea37369a-a4dd-44f5-a75f-77737cb65153",
   "metadata": {},
   "outputs": [],
   "source": [
    "\"\"\"solution<5>\n",
    "\n",
    "inheritan is one of the pillars of oops i pythin programming language\n",
    "here the child class will inherit the properties from the parent class\"\"\"\n",
    "class parent:\n",
    "    def method(self):\n",
    "        return \"this i from inside parent class\"\n",
    "\n",
    "class child(parent):\n",
    "    pass"
   ]
  },
  {
   "cell_type": "code",
   "execution_count": 30,
   "id": "a5ceccd1-0452-4948-b772-3e35073aeef4",
   "metadata": {},
   "outputs": [],
   "source": [
    "obj_class_child=child()"
   ]
  },
  {
   "cell_type": "code",
   "execution_count": 31,
   "id": "157abf74-2ac2-44ce-bfa0-3af8e963b3b5",
   "metadata": {},
   "outputs": [
    {
     "data": {
      "text/plain": [
       "'this i from inside parent class'"
      ]
     },
     "execution_count": 31,
     "metadata": {},
     "output_type": "execute_result"
    }
   ],
   "source": [
    "obj_class_child.method()"
   ]
  },
  {
   "cell_type": "code",
   "execution_count": null,
   "id": "fd47b6f6-5566-45da-b75b-fd8f0cba7280",
   "metadata": {},
   "outputs": [],
   "source": []
  }
 ],
 "metadata": {
  "kernelspec": {
   "display_name": "Python 3 (ipykernel)",
   "language": "python",
   "name": "python3"
  },
  "language_info": {
   "codemirror_mode": {
    "name": "ipython",
    "version": 3
   },
   "file_extension": ".py",
   "mimetype": "text/x-python",
   "name": "python",
   "nbconvert_exporter": "python",
   "pygments_lexer": "ipython3",
   "version": "3.10.8"
  }
 },
 "nbformat": 4,
 "nbformat_minor": 5
}
